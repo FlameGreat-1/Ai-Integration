import numpy as np
import pandas as pd
import tensorflow as tf
from tensorflow import keras
from sklearn.preprocessing import StandardScaler
from scipy.stats import bernoulli
import gzip
import os
import time
import pickle
from google.colab import drive

# Mount Google Drive
drive.mount('/content/drive')

# GPU Configuration
physical_devices = tf.config.list_physical_devices('GPU')
if len(physical_devices) > 0:
    tf.config.experimental.set_memory_growth(physical_devices[0], True)

# Set random seed for reproducibility
np.random.seed(42)
tf.random.set_seed(42)

# Create directories for checkpoints
base_dir = '/content/drive/My Drive/Ai-Integration/patient-features/health_data_analysis'
os.makedirs(base_dir, exist_ok=True)
checkpoint_dir = os.path.join(base_dir, "training_checkpoints")
os.makedirs(checkpoint_dir, exist_ok=True)
data_checkpoint_dir = os.path.join(base_dir, "data_generation_checkpoints")
os.makedirs(data_checkpoint_dir, exist_ok=True)

# Define the number of samples and markers
n_samples = 100000  # Adjust based on your computational resources
n_markers = 100_000_000  # 100_000_000 markers as requested






# Define common genetic markers (real-life examples)
common_markers = [
    'rs12913832', 'rs1815739', 'rs4988235', 'rs53576', 'rs1800497',  # Common SNPs
    'BRCA1', 'BRCA2', 'TP53', 'PTEN', 'APC', 'MLH1', 'MSH2', 'KRAS', 'BRAF', 'EGFR',  # Cancer-related genes
    'APOE', 'APP', 'PSEN1', 'PSEN2',  # Alzheimer's related genes
    'HLA-B*27', 'HLA-DRB1', 'TNFA',  # Autoimmune disease related genes
    'ACE', 'AGT', 'AGTR1',  # Cardiovascular disease related genes
    'CFTR', 'HBB', 'HEXA',  # Other disease-related genes
    'rs429358', 'rs7412',  # APOE variants
    'rs1801133', 'rs1801131',  # MTHFR variants
    'rs6025',  # Factor V Leiden
    'rs1799963',  # Prothrombin G20210A
    'rs17580', 'rs28929474',  # Alpha-1 antitrypsin deficiency
    'rs671',  # ALDH2 (alcohol metabolism)
    'rs16969968',  # Nicotine dependence
    'rs9939609',  # FTO (obesity-related)
    'rs4680',  # COMT (dopamine metabolism)
    'rs1800497',  # DRD2 (dopamine receptor)
    'rs6265',  # BDNF (brain-derived neurotrophic factor)
    'rs1799971',  # OPRM1 (opioid receptor)
    'rs53576',  # OXTR (oxytocin receptor)
    'rs2254298',  # OXTR (oxytocin receptor)
    'rs4988235',  # LCT (lactase persistence)
    'rs1801133',  # MTHFR C677T
    'rs1801131',  # MTHFR A1298C
    'rs1544410',  # VDR (vitamin D receptor)
    'rs2228570',  # VDR (vitamin D receptor)
    'rs731236',  # VDR (vitamin D receptor)
    'rs1800629',  # TNF-α (tumor necrosis factor alpha)
    'rs1143634',  # IL-1β (interleukin 1 beta)
    'rs16944',  # IL-1β (interleukin 1 beta)
    'rs1800795',  # IL-6 (interleukin 6)
    'rs1800796',  # IL-6 (interleukin 6)
    'rs1800871',  # IL-10 (interleukin 10)
    'rs1800872',  # IL-10 (interleukin 10)
    'rs1800896',  # IL-10 (interleukin 10)
    'rs4343',  # ACE (angiotensin-converting enzyme)
    'rs699',  # AGT (angiotensinogen)
    'rs5186',  # AGTR1 (angiotensin II receptor type 1)
    'rs1799752',  # ACE insertion/deletion
    'rs1801282',  # PPARG (peroxisome proliferator-activated receptor gamma)
    'rs8192678',  # PPARGC1A (PGC-1α)
    'rs1801133',  # MTHFR C677T
    'rs1801131',  # MTHFR A1298C
    'rs1801394',  # MTRR A66G
    'rs1805087',  # MTR A2756G
    'rs602662',  # FUT2 (secretor status)
    'rs601338',  # FUT2 (secretor status)
    'rs492602',  # FUT2 (secretor status)
    'rs2066844',  # NOD2 (nucleotide-binding oligomerization domain-containing protein 2)
    'rs2066845',  # NOD2
    'rs2066847',  # NOD2
    'rs13266634',  # SLC30A8 (zinc transporter 8)
    'rs7903146',  # TCF7L2 (transcription factor 7-like 2)
    'rs5219',  # KCNJ11 (potassium inwardly-rectifying channel, subfamily J, member 11)
    'rs757110',  # ABCC8 (ATP-binding cassette, sub-family C, member 8)
    'rs10830963',  # MTNR1B (melatonin receptor 1B)
    'rs4402960',  # IGF2BP2 (insulin-like growth factor 2 mRNA-binding protein 2)
    'rs1111875',  # HHEX (hematopoietically expressed homeobox)
    'rs5215',  # KCNJ11
    'rs2237892',  # KCNQ1 (potassium voltage-gated channel subfamily Q member 1)
    'rs2237895',  # KCNQ1
    'rs2237897',  # KCNQ1
    'rs2383208',  # CDKN2A/2B (cyclin-dependent kinase inhibitor 2A/B)
    'rs10811661',  # CDKN2A/2B
    'rs4506565',  # TCF7L2
    'rs12255372',  # TCF7L2
    'rs7754840',  # CDKAL1 (CDK5 regulatory subunit associated protein 1-like 1)
    'rs7756992',  # CDKAL1
    'rs10946398',  # CDKAL1
    'rs864745',  # JAZF1 (JAZF zinc finger 1)
    'rs12779790',  # CDC123/CAMK1D
    'rs7961581',  # TSPAN8/LGR5
    'rs8050136',  # FTO (fat mass and obesity-associated)
    'rs9939609',  # FTO
    'rs1121980',  # FTO
    'rs17782313',  # MC4R (melanocortin 4 receptor)
    'rs17700633',  # MC4R
    'rs12970134',  # MC4R
    'rs2237892',  # KCNQ1
    'rs2237895',  # KCNQ1
    'rs2237897',  # KCNQ1
    'rs5215',  # KCNJ11
    'rs5219',  # KCNJ11
    'rs1800795',  # IL6 (interleukin 6)
    'rs1800796',  # IL6
    'rs1800797',  # IL6
    'rs2794521',  # CRP (C-reactive protein)
    'rs1205',  # CRP
    'rs1800947',  # CRP
    'rs1800629',  # TNF (tumor necrosis factor)
    'rs361525',  # TNF
    'rs1799724',  # TNF
    'rs909253',  # LTA (lymphotoxin alpha)
    'rs1041981',  # LTA
    'rs16944',  # IL1B (interleukin 1 beta)
    'rs1143634',  # IL1B
    'rs1143627',  # IL1B
    'rs17561',  # IL1A (interleukin 1 alpha)
    'rs1800587',  # IL1A
    'rs1800896',  # IL10 (interleukin 10)
    'rs1800871',  # IL10
    'rs1800872',  # IL10
    'rs1800779',  # NOS3 (nitric oxide synthase 3)
    'rs2070744',  # NOS3
    'rs1799983',  # NOS3
    'rs5498',  # ICAM1 (intercellular adhesion molecule 1)
    'rs1799969',  # ICAM1
    'rs3093030',  # CCL2 (C-C motif chemokine ligand 2)
    'rs1024611',  # CCL2
    'rs2857657',  # CCL2
    'rs1801133',  # MTHFR (methylenetetrahydrofolate reductase)
    'rs1801131',  # MTHFR
    'rs1801394',  # MTRR (5-methyltetrahydrofolate-homocysteine methyltransferase reductase)
    'rs1805087',  # MTR (5-methyltetrahydrofolate-homocysteine methyltransferase)
    'rs662',  # PON1 (paraoxonase 1)
    'rs854560',  # PON1
    'rs705379',  # PON1
    'rs429358',  # APOE (apolipoprotein E)
    'rs7412',  # APOE
    'rs693',  # APOB (apolipoprotein B)
    'rs1042031',  # APOB
    'rs5082',  # APOA2 (apolipoprotein A2)
    'rs675',  # APOA2
    'rs2066715',  # APOA5 (apolipoprotein A5)
    'rs662799',  # APOA5
    'rs3135506',  # APOA5
    'rs1800588',  # LIPC (lipase C, hepatic type)
    'rs2070895',  # LIPC
    'rs328',  # LPL (lipoprotein lipase)
    'rs268',  # LPL
    'rs320',  # LPL
    'rs1799983',  # NOS3 (nitric oxide synthase 3)
    'rs2070744',  # NOS3
    'rs1800779',  # NOS3
    'rs5186',  # AGTR1 (angiotensin II receptor type 1)
    'rs5443',  # GNB3 (G protein subunit beta 3)
    'rs1801253',  # ADRB1 (adrenoceptor beta 1)
    'rs1042713',  # ADRB2 (adrenoceptor beta 2)
    'rs1042714',  # ADRB2
    'rs1800888',  # ADRB2
    'rs4994',  # ADRB3 (adrenoceptor beta 3)
    'rs1799998',  # CYP11B2 (cytochrome P450 family 11 subfamily B member 2)
    'rs4343',  # ACE (angiotensin I converting enzyme)
    'rs699',  # AGT (angiotensinogen)
    'rs4762',  # AGT
    'rs5051',  # AGT
    'rs1800629',  # TNF (tumor necrosis factor)
    'rs361525',  # TNF
    'rs1800610',  # TNF
    'rs909253',  # LTA (lymphotoxin alpha)
    'rs1041981',  # LTA
    'rs1800795',  # IL6 (interleukin 6)
    'rs1800796',  # IL6
    'rs1800797',  # IL6
    'rs16944',  # IL1B (interleukin 1 beta)
    'rs1143634',  # IL1B
    'rs1143627',  # IL1B
    'rs17561',  # IL1A (interleukin 1 alpha)
    'rs1800587',  # IL1A
    'rs1800896',  # IL10 (interleukin 10)
    'rs1800871',  # IL10
    'rs1800872',  # IL10
    'rs1800497',  # DRD2 (dopamine receptor D2)
    'rs6277',  # DRD2
    'rs1799732',  # DRD2
    'rs4680',  # COMT (catechol-O-methyltransferase)
    'rs6265',  # BDNF (brain-derived neurotrophic factor)
    'rs1800955',  # DRD4 (dopamine receptor D4)
    'rs747302',  # DRD4
    'rs1800497',  # ANKK1 (ankyrin repeat and kinase domain containing 1)
    'rs4680',  # COMT (catechol-O-methyltransferase)
    'rs165599',  # COMT
    'rs4633',  # COMT
    'rs6280',  # DRD3 (dopamine receptor D3)
    'rs1800955',  # DRD4 (dopamine receptor D4)
    'rs1800497',  # ANKK1/DRD2
    'rs1799971',  # OPRM1 (opioid receptor mu 1)
    'rs1229984',  # ADH1B (alcohol dehydrogenase 1B)
    'rs671',  # ALDH2 (aldehyde dehydrogenase 2)
    'rs16969968',  # CHRNA5 (cholinergic receptor nicotinic alpha 5 subunit)
    'rs1051730',  # CHRNA3 (cholinergic receptor nicotinic alpha 3 subunit)
    'rs6265',  # BDNF (brain-derived neurotrophic factor)
    'rs1800497',  # ANKK1/DRD2
    'rs53576',  # OXTR (oxytocin receptor)
    'rs2254298',  # OXTR
    'rs1042778',  # OXTR
    'rs237887',  # OXTR
    'rs2268498',  # OXTR
    'rs237897',  # OXTR
    'rs4680',  # COMT
    'rs4633',  # COMT
    'rs165599',  # COMT
    'rs6280',  # DRD3
    'rs1800955',  # DRD4
    'rs1800497',  # ANKK1/DRD2
    'rs1799971',  # OPRM1
    'rs1229984',  # ADH1B
    'rs671',  # ALDH2
    'rs16969968',  # CHRNA5
    'rs1051730',  # CHRNA3
    'rs6265',  # BDNF
    'rs1800497',  # ANKK1/DRD2
    'rs53576',  # OXTR
    'rs2254298',  # OXTR
    'rs1042778',  # OXTR
    'rs237887',  # OXTR
    'rs2268498',  # OXTR
    'rs237897',  # OXTR
    'rs4680',  # COMT
    'rs4633',  # COMT
    'rs165599',  # COMT
    'rs6280',  # DRD3
    'rs1800955',  # DRD4
    'rs1800497',  # ANKK1/DRD2
    'rs1799971',  # OPRM1
    'rs1229984',  # ADH1B
    'rs671',  # ALDH2
    'rs16969968',  # CHRNA5
    'rs1051730',  # CHRNA3
    'rs6265',  # BDNF
    'rs1800497',  # ANKK1/DRD2
    'rs53576',  # OXTR
    'rs2254298',  # OXTR
    'rs1042778',  # OXTR
    'rs237887',  # OXTR
    'rs2268498',  # OXTR
    'rs237897',  # OXTR
    'rs1801133', 'rs1801131', 'rs1801394', 'rs1805087', 'rs662',  # MTHFR, MTRR, MTR, PON1
    'rs854560', 'rs705379', 'rs429358', 'rs7412', 'rs693',  # PON1, APOE, APOB
    'rs1042031', 'rs5082', 'rs675', 'rs2066715', 'rs662799',  # APOB, APOA2, APOA5
    'rs3135506', 'rs1800588', 'rs2070895', 'rs328', 'rs268',  # APOA5, LIPC, LPL
    'rs320', 'rs1799983', 'rs2070744', 'rs1800779', 'rs5186',  # LPL, NOS3, AGTR1
    'rs5443', 'rs1801253', 'rs1042713', 'rs1042714', 'rs1800888',  # GNB3, ADRB1, ADRB2
    'rs4994', 'rs1799998', 'rs4343', 'rs699', 'rs4762',  # ADRB3, CYP11B2, ACE, AGT
    'rs5051', 'rs1800629', 'rs361525', 'rs1800610', 'rs909253',  # AGT, TNF, LTA
    'rs1041981', 'rs1800795', 'rs1800796', 'rs1800797', 'rs16944',  # LTA, IL6, IL1B
    'rs1143634', 'rs1143627', 'rs17561', 'rs1800587', 'rs1800896',  # IL1B, IL1A, IL10
    'rs1800871', 'rs1800872', 'rs1800497', 'rs6277', 'rs1799732',  # IL10, DRD2
    'rs4680', 'rs6265', 'rs1800955', 'rs747302', 'rs165599',  # COMT, BDNF, DRD4, COMT
    'rs4633', 'rs6280', 'rs1799971', 'rs1229984', 'rs671',  # COMT, DRD3, OPRM1, ADH1B, ALDH2
    'rs16969968', 'rs1051730', 'rs53576', 'rs2254298', 'rs1042778',  # CHRNA5, CHRNA3, OXTR
    'rs237887', 'rs2268498', 'rs237897', 'rs4680', 'rs4633',  # OXTR, COMT
    'rs165599', 'rs6280', 'rs1800955', 'rs1799971', 'rs1229984',  # COMT, DRD3, DRD4, OPRM1, ADH1B
    'rs671', 'rs16969968', 'rs1051730', 'rs6265', 'rs53576',  # ALDH2, CHRNA5, CHRNA3, BDNF, OXTR
    'rs2254298', 'rs1042778', 'rs237887', 'rs2268498', 'rs237897',  # OXTR
    'rs4988235', 'rs182549', 'rs3754686', 'rs145946881', 'rs41380347',  # LCT (lactase persistence)
    'rs1800562', 'rs1799945', 'rs1800730', 'rs855791', 'rs4820268',  # HFE, TMPRSS6 (iron metabolism)
    'rs1800795', 'rs1800796', 'rs1800797', 'rs2069840', 'rs2069861',  # IL6 (interleukin 6)
    'rs1800629', 'rs361525', 'rs1799724', 'rs1800610', 'rs1799964',  # TNF (tumor necrosis factor)
    'rs16944', 'rs1143634', 'rs1143627', 'rs1143633', 'rs1143623',  # IL1B (interleukin 1 beta)
    'rs1800896', 'rs1800871', 'rs1800872', 'rs3024505', 'rs3021094',  # IL10 (interleukin 10)
    'rs1800497', 'rs1799732', 'rs6277', 'rs1076560', 'rs2283265',  # DRD2 (dopamine receptor D2)
    'rs4680', 'rs4633', 'rs4818', 'rs769224', 'rs165599',  # COMT (catechol-O-methyltransferase)
    'rs6265', 'rs56164415', 'rs2049046', 'rs11030104', 'rs11030119',  # BDNF (brain-derived neurotrophic factor)
    'rs1800955', 'rs747302', 'rs936461', 'rs4646984', 'rs1800443',  # DRD4 (dopamine receptor D4)
    'rs1799971', 'rs1799972', 'rs1799973', 'rs540825', 'rs563649',  # OPRM1 (opioid receptor mu 1)
    'rs1229984', 'rs2066702', 'rs1693482', 'rs698', 'rs1789891',  # ADH1B, ADH1C (alcohol dehydrogenase)
    'rs671', 'rs441', 'rs440', 'rs4646776', 'rs671',  # ALDH2 (aldehyde dehydrogenase 2)
    'rs16969968', 'rs1051730', 'rs578776', 'rs588765', 'rs6495308',  # CHRNA5-CHRNA3-CHRNB4 cluster
    'rs53576', 'rs2254298', 'rs1042778', 'rs237887', 'rs2268498',  # OXTR (oxytocin receptor)
    'rs4988235', 'rs182549', 'rs3754686', 'rs145946881', 'rs41380347',  # LCT (lactase persistence)
    'rs713598', 'rs1726866', 'rs10246939', 'rs1726866', 'rs10246939',  # TAS2R38 (taste receptor)
    'rs4680', 'rs4633', 'rs4818', 'rs769224', 'rs165599',  # COMT (catechol-O-methyltransferase)
    'rs1800497', 'rs1799732', 'rs6277', 'rs1076560', 'rs2283265',  # DRD2 (dopamine receptor D2)
    'rs6265', 'rs56164415', 'rs2049046', 'rs11030104', 'rs11030119',  # BDNF (brain-derived neurotrophic factor)
    'rs1800955', 'rs747302', 'rs936461', 'rs4646984', 'rs1800443',  # DRD4 (dopamine receptor D4)
    'rs1799971', 'rs1799972', 'rs1799973', 'rs540825', 'rs563649',  # OPRM1 (opioid receptor mu 1)
    'rs1229984', 'rs2066702', 'rs1693482', 'rs698', 'rs1789891',  # ADH1B, ADH1C (alcohol dehydrogenase)
    'rs671', 'rs441', 'rs440', 'rs4646776', 'rs671',  # ALDH2 (aldehyde dehydrogenase 2)
    'rs16969968', 'rs1051730', 'rs578776', 'rs588765', 'rs6495308',  # CHRNA5-CHRNA3-CHRNB4 cluster
    'rs53576', 'rs2254298', 'rs1042778', 'rs237887', 'rs2268498',  # OXTR (oxytocin receptor)
    'rs4988235', 'rs182549', 'rs3754686', 'rs145946881', 'rs41380347',  # LCT (lactase persistence)
    'rs713598', 'rs1726866', 'rs10246939', 'rs1726866', 'rs10246939',  # TAS2R38 (taste receptor)
    'rs429358', 'rs7412', 'rs769449', 'rs4420638', 'rs157580',  # APOE (apolipoprotein E)
    'rs1801133', 'rs1801131', 'rs2066470', 'rs1801394', 'rs1805087',  # MTHFR, MTRR, MTR (folate metabolism)
    'rs662', 'rs854560', 'rs705379', 'rs705381', 'rs662',  # PON1 (paraoxonase 1)
    'rs1800629', 'rs361525', 'rs1799724', 'rs1800610', 'rs1799964',  # TNF (tumor necrosis factor)
    'rs1800796', 'rs1800795', 'rs1800797', 'rs2069840', 'rs2069861',  # IL6 (interleukin 6)
    'rs16944', 'rs1143634', 'rs1143627', 'rs1143633', 'rs1143623',  # IL1B (interleukin 1 beta)
    'rs1800896', 'rs1800871', 'rs1800872', 'rs3024505', 'rs3021094',  # IL10 (interleukin 10)
    'rs1800497', 'rs1799732', 'rs6277', 'rs1076560', 'rs2283265',  # DRD2 (dopamine receptor D2)
    'rs4680', 'rs4633', 'rs4818', 'rs769224', 'rs165599',  # COMT (catechol-O-methyltransferase)
    'rs6265', 'rs56164415', 'rs2049046', 'rs11030104', 'rs11030119',  # BDNF (brain-derived neurotrophic factor)
    'rs1800955', 'rs747302', 'rs936461', 'rs4646984', 'rs1800443',  # DRD4 (dopamine receptor D4)
    'rs1799971', 'rs1799972', 'rs1799973', 'rs540825', 'rs563649',  # OPRM1 (opioid receptor mu 1)
    'rs1229984', 'rs2066702', 'rs1693482', 'rs698', 'rs1789891',  # ADH1B, ADH1C (alcohol dehydrogenase)
    'rs671', 'rs441', 'rs440', 'rs4646776', 'rs671',  # ALDH2 (aldehyde dehydrogenase 2)
    'rs16969968', 'rs1051730', 'rs578776', 'rs588765', 'rs6495308',  # CHRNA5-CHRNA3-CHRNB4 cluster
    'rs53576', 'rs2254298', 'rs1042778', 'rs237887', 'rs2268498',  # OXTR (oxytocin receptor)
    'rs4988235', 'rs182549', 'rs3754686', 'rs145946881', 'rs41380347',  # LCT (lactase persistence)
    'rs713598', 'rs1726866', 'rs10246939', 'rs1726866', 'rs10246939',  # TAS2R38 (taste receptor)
    'rs1800497', 'rs1799732', 'rs6277', 'rs1076560', 'rs2283265',  # DRD2 (dopamine receptor D2)
    'rs4680', 'rs4633', 'rs4818', 'rs769224', 'rs165599',  # COMT (catechol-O-methyltransferase)
    'rs6265', 'rs56164415', 'rs2049046', 'rs11030104', 'rs11030119',  # BDNF (brain-derived neurotrophic factor)
    'rs1800955', 'rs747302', 'rs936461', 'rs4646984', 'rs1800443',  # DRD4 (dopamine receptor D4)
    'rs1799971', 'rs1799972', 'rs1799973', 'rs540825', 'rs563649',  # OPRM1 (opioid receptor mu 1)
    'rs1229984', 'rs2066702', 'rs1693482', 'rs698', 'rs1789891',  # ADH1B, ADH1C (alcohol dehydrogenase)
    'rs671', 'rs441', 'rs440', 'rs4646776', 'rs671',  # ALDH2 (aldehyde dehydrogenase 2)
    'rs16969968', 'rs1051730', 'rs578776', 'rs588765', 'rs6495308',  # CHRNA5-CHRNA3-CHRNB4 cluster
    'rs53576', 'rs2254298', 'rs1042778', 'rs237887', 'rs2268498',  # OXTR (oxytocin receptor)
    'rs4988235', 'rs182549', 'rs3754686', 'rs145946881', 'rs41380347',  # LCT (lactase persistence)
    'rs713598', 'rs1726866', 'rs10246939', 'rs1726866', 'rs10246939',  # TAS2R38 (taste receptor)
    'rs429358', 'rs7412', 'rs769449', 'rs4420638', 'rs157580',  # APOE (apolipoprotein E)
    'rs1801133', 'rs1801131', 'rs2066470', 'rs1801394', 'rs1805087',  # MTHFR, MTRR, MTR (folate metabolism)
    'rs662', 'rs854560', 'rs705379', 'rs705381', 'rs662',  # PON1 (paraoxonase 1)
    'rs1800629', 'rs361525', 'rs1799724', 'rs1800610', 'rs1799964',  # TNF (tumor necrosis factor)
    'rs1800796', 'rs1800795', 'rs1800797', 'rs2069840', 'rs2069861',  # IL6 (interleukin 6)
    'rs16944', 'rs1143634', 'rs1143627', 'rs1143633', 'rs1143623',  # IL1B (interleukin 1 beta)
    'rs1800896', 'rs1800871', 'rs1800872', 'rs3024505', 'rs3021094',  # IL10 (interleukin 10)
    'rs1800497', 'rs1799732', 'rs6277', 'rs1076560', 'rs2283265',  # DRD2 (dopamine receptor D2)
    'rs4680', 'rs4633', 'rs4818', 'rs769224', 'rs165599',  # COMT (catechol-O-methyltransferase)
    'rs6265', 'rs56164415', 'rs2049046', 'rs11030104', 'rs11030119',  # BDNF (brain-derived neurotrophic factor)
    'rs1800955', 'rs747302', 'rs936461', 'rs4646984', 'rs1800443',  # DRD4 (dopamine receptor D4)
    'rs1799971', 'rs1799972', 'rs1799973', 'rs540825', 'rs563649',  # OPRM1 (opioid receptor mu 1)
    'rs1229984', 'rs2066702', 'rs1693482', 'rs698', 'rs1789891',  # ADH1B, ADH1C (alcohol dehydrogenase)
    'rs671', 'rs441', 'rs440', 'rs4646776', 'rs671',  # ALDH2 (aldehyde dehydrogenase 2)
    'rs16969968', 'rs1051730', 'rs578776', 'rs588765', 'rs6495308',  # CHRNA5-CHRNA3-CHRNB4 cluster
    'rs53576', 'rs2254298', 'rs1042778', 'rs237887', 'rs2268498',  # OXTR (oxytocin receptor)
    'rs4988235', 'rs182549', 'rs3754686', 'rs145946881', 'rs41380347',  # LCT (lactase persistence)
    'rs713598', 'rs1726866', 'rs10246939', 'rs1726866', 'rs10246939',  # TAS2R38 (taste receptor)
    'rs1800497', 'rs1799732', 'rs6277', 'rs1076560', 'rs2283265',  # DRD2 (dopamine receptor D2)
    'rs4680', 'rs4633', 'rs4818', 'rs769224', 'rs165599',  # COMT (catechol-O-methyltransferase)
    'rs6265', 'rs56164415', 'rs2049046', 'rs11030104', 'rs11030119',  # BDNF (brain-derived neurotrophic factor)
    'rs1800955', 'rs747302', 'rs936461', 'rs4646984', 'rs1800443',  # DRD4 (dopamine receptor D4)
    'rs1799971', 'rs1799972', 'rs1799973', 'rs540825', 'rs563649',  # OPRM1 (opioid receptor mu 1)
    'rs1229984', 'rs2066702', 'rs1693482', 'rs698', 'rs1789891',  # ADH1B, ADH1C (alcohol dehydrogenase)
    'rs671', 'rs441', 'rs440', 'rs4646776', 'rs671',  # ALDH2 (aldehyde dehydrogenase 2)
    'rs16969968', 'rs1051730', 'rs578776', 'rs588765', 'rs6495308',  # CHRNA5-CHRNA3-CHRNB4 cluster
    'rs53576', 'rs2254298', 'rs1042778', 'rs237887', 'rs2268498',  # OXTR (oxytocin receptor)
    'rs4988235', 'rs182549', 'rs3754686', 'rs145946881', 'rs41380347',  # LCT (lactase persistence)
    'rs713598', 'rs1726866', 'rs10246939', 'rs1726866', 'rs10246939',  # TAS2R38 (taste receptor)
    'rs429358', 'rs7412', 'rs769449', 'rs4420638', 'rs157580',  # APOE (apolipoprotein E)
    'rs1801133', 'rs1801131', 'rs2066470', 'rs1801394', 'rs1805087',  # MTHFR, MTRR, MTR (folate metabolism)
    'rs662', 'rs854560', 'rs705379', 'rs705381', 'rs662',  # PON1 (paraoxonase 1)
    'rs1800629', 'rs361525', 'rs1799724', 'rs1800610', 'rs1799964',  # TNF (tumor necrosis factor)
    'rs1800796',     'rs1800796', 'rs1800795', 'rs1800797', 'rs2069840', 'rs2069861',  # IL6 (interleukin 6)    'rs16944', 'rs1143634', 'rs1143627', 'rs1143633', 'rs1143623',  # IL1B (interleukin 1 beta)
    'rs1800896', 'rs1800871', 'rs1800872', 'rs3024505', 'rs3021094',  # IL10 (interleukin 10)
    'rs1800497', 'rs1799732', 'rs6277', 'rs1076560', 'rs2283265',  # DRD2 (dopamine receptor D2)
    'rs4680', 'rs4633', 'rs4818', 'rs769224', 'rs165599',  # COMT (catechol-O-methyltransferase)
    'rs6265', 'rs56164415', 'rs2049046', 'rs11030104', 'rs11030119',  # BDNF (brain-derived neurotrophic factor)
    'rs1800955', 'rs747302', 'rs936461', 'rs4646984', 'rs1800443',  # DRD4 (dopamine receptor D4)
    'rs1799971', 'rs1799972', 'rs1799973', 'rs540825', 'rs563649',  # OPRM1 (opioid receptor mu 1)
    'rs1229984', 'rs2066702', 'rs1693482', 'rs698', 'rs1789891',  # ADH1B, ADH1C (alcohol dehydrogenase)
    'rs671', 'rs441', 'rs440', 'rs4646776', 'rs671',  # ALDH2 (aldehyde dehydrogenase 2)
    'rs16969968', 'rs1051730', 'rs578776', 'rs588765', 'rs6495308',  # CHRNA5-CHRNA3-CHRNB4 cluster
    'rs53576', 'rs2254298', 'rs1042778', 'rs237887', 'rs2268498',  # OXTR (oxytocin receptor)
    'rs4988235', 'rs182549', 'rs3754686', 'rs145946881', 'rs41380347',  # LCT (lactase persistence)
    'rs713598', 'rs1726866', 'rs10246939', 'rs1726866', 'rs10246939',  # TAS2R38 (taste receptor)
    'rs1801282', 'rs1805192', 'rs3856806', 'rs1800206', 'rs4253778',  # PPAR genes (metabolism)
    'rs9939609', 'rs1421085', 'rs1121980', 'rs17817449', 'rs8050136',  # FTO (fat mass and obesity-associated)
    'rs1800562', 'rs1799945', 'rs1800730', 'rs855791', 'rs4820268',  # HFE, TMPRSS6 (iron metabolism)
    'rs4680', 'rs4633', 'rs4818', 'rs769224', 'rs165599',  # COMT (catechol-O-methyltransferase)
    'rs1800497', 'rs1799732', 'rs6277', 'rs1076560', 'rs2283265',  # DRD2 (dopamine receptor D2)
    'rs6265', 'rs56164415', 'rs2049046', 'rs11030104', 'rs11030119',  # BDNF (brain-derived neurotrophic factor)
    'rs1800955', 'rs747302', 'rs936461', 'rs4646984', 'rs1800443',  # DRD4 (dopamine receptor D4)
    'rs1799971', 'rs1799972', 'rs1799973', 'rs540825', 'rs563649',  # OPRM1 (opioid receptor mu 1)
    'rs1229984', 'rs2066702', 'rs1693482', 'rs698', 'rs1789891',  # ADH1B, ADH1C (alcohol dehydrogenase)
    'rs671', 'rs441', 'rs440', 'rs4646776', 'rs671',  # ALDH2 (aldehyde dehydrogenase 2)
    'rs16969968', 'rs1051730', 'rs578776', 'rs588765', 'rs6495308',  # CHRNA5-CHRNA3-CHRNB4 cluster
    'rs53576', 'rs2254298', 'rs1042778', 'rs237887', 'rs2268498',  # OXTR (oxytocin receptor)
    'rs4988235', 'rs182549', 'rs3754686', 'rs145946881', 'rs41380347',  # LCT (lactase persistence)
    'rs713598', 'rs1726866', 'rs10246939', 'rs1726866', 'rs10246939',  # TAS2R38 (taste receptor)
    'rs1801133', 'rs1801131', 'rs2066470', 'rs1801394', 'rs1805087',  # MTHFR, MTRR, MTR (folate metabolism)
    'rs662', 'rs854560', 'rs705379', 'rs705381', 'rs662',  # PON1 (paraoxonase 1)
    'rs1800629', 'rs361525', 'rs1799724', 'rs1800610', 'rs1799964',  # TNF (tumor necrosis factor)
    'rs1800796', 'rs1800795', 'rs1800797', 'rs2069840', 'rs2069861',  # IL6 (interleukin 6)
    'rs16944', 'rs1143634', 'rs1143627', 'rs1143633', 'rs1143623',  # IL1B (interleukin 1 beta)
    'rs1800896', 'rs1800871', 'rs1800872', 'rs3024505', 'rs3021094',  # IL10 (interleukin 10)
    'rs1800497', 'rs1799732', 'rs6277', 'rs1076560', 'rs2283265',  # DRD2 (dopamine receptor D2)
    'rs4680', 'rs4633', 'rs4818', 'rs769224', 'rs165599',  # COMT (catechol-O-methyltransferase)
    'rs6265', 'rs56164415', 'rs2049046', 'rs11030104', 'rs11030119',  # BDNF (brain-derived neurotrophic factor)
    'rs1800955', 'rs747302', 'rs936461', 'rs4646984', 'rs1800443',  # DRD4 (dopamine receptor D4)
    'rs1799971', 'rs1799972', 'rs1799973', 'rs540825', 'rs563649',  # OPRM1 (opioid receptor mu 1)
    'rs1229984', 'rs2066702', 'rs1693482', 'rs698', 'rs1789891',  # ADH1B, ADH1C (alcohol dehydrogenase)
    'rs671', 'rs441', 'rs440', 'rs4646776', 'rs671',  # ALDH2 (aldehyde dehydrogenase 2)
    'rs16969968', 'rs1051730', 'rs578776', 'rs588765', 'rs6495308',  # CHRNA5-CHRNA3-CHRNB4 cluster
    'rs53576', 'rs2254298', 'rs1042778', 'rs237887', 'rs2268498',  # OXTR (oxytocin receptor)
    'rs4988235', 'rs182549', 'rs3754686', 'rs145946881', 'rs41380347',  # LCT (lactase persistence)
    'rs713598', 'rs1726866', 'rs10246939', 'rs1726866', 'rs10246939',  # TAS2R38 (taste receptor)

]



# Remove duplicates from common_markers
common_markers = list(dict.fromkeys(common_markers))

# Generate random marker names for the remaining markers
remaining_markers = [f'rs{i}' for i in range(len(common_markers), n_markers)]
all_markers = common_markers + remaining_markers

# Define Minor Allele Frequencies (MAFs) for common variants
common_mafs = np.random.uniform(0.01, 0.5, size=len(common_markers))

def generate_realistic_genetic_data(n_samples, markers, common_mafs, batch_size=10000, checkpoint_file='data_generation_checkpoint.pkl'):
    total_batches = n_samples // batch_size
    start_batch = 0
    data = []

    # Check for existing checkpoint
    checkpoint_path = os.path.join(data_checkpoint_dir, checkpoint_file)
    if os.path.exists(checkpoint_path):
        with open(checkpoint_path, 'rb') as f:
            checkpoint = pickle.load(f)
            data = checkpoint['data']
            start_batch = checkpoint['batch']
        print(f"Resuming data generation from batch {start_batch}")

    for batch in range(start_batch, total_batches):
        batch_data = np.zeros((batch_size, len(markers)))

        # Generate data for common variants
        for i, (marker, maf) in enumerate(zip(common_markers, common_mafs)):
            batch_data[:, i] = np.random.choice([0, 1, 2], size=batch_size, p=[(1-maf)**2, 2*maf*(1-maf), maf**2])

        # Generate data for remaining markers
        for i in range(len(common_markers), len(markers)):
            maf = np.random.uniform(0.0001, 0.01)  # Rare variants
            batch_data[:, i] = np.random.choice([0, 1, 2], size=batch_size, p=[(1-maf)**2, 2*maf*(1-maf), maf**2])

        # Introduce Linkage Disequilibrium (LD)
        ld_groups = np.random.randint(0, 100, size=len(markers))
        for group in range(100):
            group_markers = np.where(ld_groups == group)[0]
            if len(group_markers) > 1:
                base_marker = group_markers[0]
                for marker in group_markers[1:]:
                    ld_strength = np.random.uniform(0.7, 0.9)
                    batch_data[:, marker] = np.where(bernoulli.rvs(ld_strength, size=batch_size),
                                                     batch_data[:, base_marker],
                                                     batch_data[:, marker])

        data.append(batch_data)

        # Save checkpoint every 10 batches
        if (batch + 1) % 10 == 0:
            with open(checkpoint_path, 'wb') as f:
                pickle.dump({'data': data, 'batch': batch + 1}, f)
            print(f"Checkpoint saved at batch {batch + 1}/{total_batches}")

    return np.vstack(data)

# Define and train a more complex Variational Autoencoder (VAE)
class ComplexVAE(keras.Model):
    def __init__(self, original_dim, intermediate_dim=2048, latent_dim=256):
        super(ComplexVAE, self).__init__()
        self.original_dim = original_dim
        self.encoder = tf.keras.Sequential([
            keras.layers.InputLayer(input_shape=(original_dim,)),
            keras.layers.Dense(intermediate_dim, activation='relu'),
            keras.layers.Dense(intermediate_dim // 2, activation='relu'),
            keras.layers.Dense(intermediate_dim // 4, activation='relu'),
            keras.layers.Dense(latent_dim * 2)
        ])
        self.decoder = tf.keras.Sequential([
            keras.layers.InputLayer(input_shape=(latent_dim,)),
            keras.layers.Dense(intermediate_dim // 4, activation='relu'),
            keras.layers.Dense(intermediate_dim // 2, activation='relu'),
            keras.layers.Dense(intermediate_dim, activation='relu'),
            keras.layers.Dense(original_dim)
        ])

    def encode(self, x):
        mean, logvar = tf.split(self.encoder(x), num_or_size_splits=2, axis=1)
        return mean, logvar

    def reparameterize(self, mean, logvar):
        eps = tf.random.normal(shape=mean.shape)
        return eps * tf.exp(logvar * .5) + mean

    def decode(self, z):
        return self.decoder(z)

    def call(self, inputs):
        mean, logvar = self.encode(inputs)
        z = self.reparameterize(mean, logvar)
        reconstructed = self.decode(z)
        return reconstructed

    def train_step(self, data):
        with tf.GradientTape() as tape:
            mean, logvar = self.encode(data)
            z = self.reparameterize(mean, logvar)
            reconstructed = self.decode(z)
            
            # Compute reconstruction loss
            reconstruction_loss = tf.reduce_mean(
                tf.keras.losses.binary_crossentropy(data, reconstructed)
            )
            reconstruction_loss *= self.original_dim
            
            # Compute KL divergence
            kl_loss = -0.5 * tf.reduce_mean(
                1 + logvar - tf.square(mean) - tf.exp(logvar)
            )
            
            # Total loss
            total_loss = reconstruction_loss + kl_loss

        grads = tape.gradient(total_loss, self.trainable_weights)
        self.optimizer.apply_gradients(zip(grads, self.trainable_weights))

        return {
            "loss": total_loss,
            "reconstruction_loss": reconstruction_loss,
            "kl_loss": kl_loss,
        }


def save_data_to_csv(df, file_path='genetic_data.csv'):
    os.makedirs(os.path.dirname(file_path), exist_ok=True)
    df.to_csv(file_path, index=False)
    print(f"Data saved to {file_path}")

def verify_saved_data(file_path='genetic_data.csv'):
    try:
        # Check file size
        file_size = os.path.getsize(file_path)
        print(f"File size: {file_size} bytes")

        # Read the first few lines
        print("First few lines of the saved data:")
        with open(file_path, 'r') as f:
            for _ in range(5):
                print(f.readline().strip())

        # Count total lines
        with open(file_path, 'r') as f:
            total_lines = sum(1 for _ in f)

        print(f"Total number of lines (including header): {total_lines}")
        print(f"Number of samples: {total_lines - 1}")  # Subtract 1 for header

    except Exception as e:
        print(f"Error verifying saved data: {e}")

# Generate initial realistic genetic data
print("Generating initial genetic data...")
initial_data = generate_realistic_genetic_data(n_samples, all_markers, common_mafs)

# Save the initial data
initial_data_path = os.path.join(base_dir, 'genetic_data.csv')
save_data_to_csv(pd.DataFrame(initial_data, columns=all_markers), file_path=initial_data_path)

# Verify the saved initial data
print("Verifying saved initial data...")
verify_saved_data(initial_data_path)

# Prepare data for VAE
print("Preparing data for VAE...")
scaler = StandardScaler()
scaled_data = scaler.fit_transform(initial_data)

# Train VAE
print("Training VAE...")
vae = ComplexVAE(n_markers)
vae.compile(optimizer=keras.optimizers.Adam(learning_rate=0.001))

# Use tf.data.Dataset for efficient data loading
batch_size = 256
train_dataset = tf.data.Dataset.from_tensor_slices(scaled_data).shuffle(10000).batch(batch_size)

# Checkpointing for model training
checkpoint_path = os.path.join(checkpoint_dir, "cp-{epoch:04d}.ckpt")
cp_callback = tf.keras.callbacks.ModelCheckpoint(
    filepath=checkpoint_path,
    verbose=1,
    save_weights_only=True,
    period=5)  # Save weights every 5 epochs

# Train with early stopping and checkpointing
early_stopping = tf.keras.callbacks.EarlyStopping(monitor='loss', patience=3)

# Check if there are existing checkpoints
latest_checkpoint = tf.train.latest_checkpoint(checkpoint_dir)
if latest_checkpoint:
    print(f"Resuming training from checkpoint: {latest_checkpoint}")
    vae.load_weights(latest_checkpoint)
    initial_epoch = int(latest_checkpoint.split('-')[-1].split('.')[0])
else:
    initial_epoch = 0

history = vae.fit(train_dataset, epochs=50, callbacks=[early_stopping, cp_callback], initial_epoch=initial_epoch)

# Generate synthetic data using the trained VAE
print("Generating synthetic data...")
latent_samples = tf.random.normal(shape=(n_samples, 256))
synthetic_data = vae.decode(latent_samples)
synthetic_data = scaler.inverse_transform(synthetic_data)
synthetic_df = pd.DataFrame(synthetic_data, columns=all_markers)

# Save the synthetic data
synthetic_data_path = os.path.join(base_dir, 'synthetic_genetic_data.csv')
save_data_to_csv(synthetic_df, file_path=synthetic_data_path)

# Verify the saved synthetic data
print("Verifying saved synthetic data...")
verify_saved_data(synthetic_data_path)

print("Process completed. Data saved and verified.")





# Define common genetic markers (real-life examples)
common_markers = [
    'rs12913832', 'rs1815739', 'rs4988235', 'rs53576', 'rs1800497',  # Common SNPs
    'BRCA1', 'BRCA2', 'TP53', 'PTEN', 'APC', 'MLH1', 'MSH2', 'KRAS', 'BRAF', 'EGFR',  # Cancer-related genes
    'APOE', 'APP', 'PSEN1', 'PSEN2',  # Alzheimer's related genes
    'HLA-B*27', 'HLA-DRB1', 'TNFA',  # Autoimmune disease related genes
    'ACE', 'AGT', 'AGTR1',  # Cardiovascular disease related genes
    'CFTR', 'HBB', 'HEXA',  # Other disease-related genes
    'rs429358', 'rs7412',  # APOE variants
    'rs1801133', 'rs1801131',  # MTHFR variants
    'rs6025',  # Factor V Leiden
    'rs1799963',  # Prothrombin G20210A
    'rs17580', 'rs28929474',  # Alpha-1 antitrypsin deficiency
    'rs671',  # ALDH2 (alcohol metabolism)
    'rs16969968',  # Nicotine dependence
    'rs9939609',  # FTO (obesity-related)
    'rs4680',  # COMT (dopamine metabolism)
    'rs1800497',  # DRD2 (dopamine receptor)
    'rs6265',  # BDNF (brain-derived neurotrophic factor)
    'rs1799971',  # OPRM1 (opioid receptor)
    'rs53576',  # OXTR (oxytocin receptor)
    'rs2254298',  # OXTR (oxytocin receptor)
    'rs4988235',  # LCT (lactase persistence)
    'rs1801133',  # MTHFR C677T
    'rs1801131',  # MTHFR A1298C
    'rs1544410',  # VDR (vitamin D receptor)
    'rs2228570',  # VDR (vitamin D receptor)
    'rs731236',  # VDR (vitamin D receptor)
    'rs1800629',  # TNF-α (tumor necrosis factor alpha)
    'rs1143634',  # IL-1β (interleukin 1 beta)
    'rs16944',  # IL-1β (interleukin 1 beta)
    'rs1800795',  # IL-6 (interleukin 6)
    'rs1800796',  # IL-6 (interleukin 6)
    'rs1800871',  # IL-10 (interleukin 10)
    'rs1800872',  # IL-10 (interleukin 10)
    'rs1800896',  # IL-10 (interleukin 10)
    'rs4343',  # ACE (angiotensin-converting enzyme)
    'rs699',  # AGT (angiotensinogen)
    'rs5186',  # AGTR1 (angiotensin II receptor type 1)
    'rs1799752',  # ACE insertion/deletion
    'rs1801282',  # PPARG (peroxisome proliferator-activated receptor gamma)
    'rs8192678',  # PPARGC1A (PGC-1α)
    'rs1801133',  # MTHFR C677T
    'rs1801131',  # MTHFR A1298C
    'rs1801394',  # MTRR A66G
    'rs1805087',  # MTR A2756G
    'rs602662',  # FUT2 (secretor status)
    'rs601338',  # FUT2 (secretor status)
    'rs492602',  # FUT2 (secretor status)
    'rs2066844',  # NOD2 (nucleotide-binding oligomerization domain-containing protein 2)
    'rs2066845',  # NOD2
    'rs2066847',  # NOD2
    'rs13266634',  # SLC30A8 (zinc transporter 8)
    'rs7903146',  # TCF7L2 (transcription factor 7-like 2)
    'rs5219',  # KCNJ11 (potassium inwardly-rectifying channel, subfamily J, member 11)
    'rs757110',  # ABCC8 (ATP-binding cassette, sub-family C, member 8)
    'rs10830963',  # MTNR1B (melatonin receptor 1B)
    'rs4402960',  # IGF2BP2 (insulin-like growth factor 2 mRNA-binding protein 2)
    'rs1111875',  # HHEX (hematopoietically expressed homeobox)
    'rs5215',  # KCNJ11
    'rs2237892',  # KCNQ1 (potassium voltage-gated channel subfamily Q member 1)
    'rs2237895',  # KCNQ1
    'rs2237897',  # KCNQ1
    'rs2383208',  # CDKN2A/2B (cyclin-dependent kinase inhibitor 2A/B)
    'rs10811661',  # CDKN2A/2B
    'rs4506565',  # TCF7L2
    'rs12255372',  # TCF7L2
    'rs7754840',  # CDKAL1 (CDK5 regulatory subunit associated protein 1-like 1)
    'rs7756992',  # CDKAL1
    'rs10946398',  # CDKAL1
    'rs864745',  # JAZF1 (JAZF zinc finger 1)
    'rs12779790',  # CDC123/CAMK1D
    'rs7961581',  # TSPAN8/LGR5
    'rs8050136',  # FTO (fat mass and obesity-associated)
    'rs9939609',  # FTO
    'rs1121980',  # FTO
    'rs17782313',  # MC4R (melanocortin 4 receptor)
    'rs17700633',  # MC4R
    'rs12970134',  # MC4R
    'rs2237892',  # KCNQ1
    'rs2237895',  # KCNQ1
    'rs2237897',  # KCNQ1
    'rs5215',  # KCNJ11
    'rs5219',  # KCNJ11
    'rs1800795',  # IL6 (interleukin 6)
    'rs1800796',  # IL6
    'rs1800797',  # IL6
    'rs2794521',  # CRP (C-reactive protein)
    'rs1205',  # CRP
    'rs1800947',  # CRP
    'rs1800629',  # TNF (tumor necrosis factor)
    'rs361525',  # TNF
    'rs1799724',  # TNF
    'rs909253',  # LTA (lymphotoxin alpha)
    'rs1041981',  # LTA
    'rs16944',  # IL1B (interleukin 1 beta)
    'rs1143634',  # IL1B
    'rs1143627',  # IL1B
    'rs17561',  # IL1A (interleukin 1 alpha)
    'rs1800587',  # IL1A
    'rs1800896',  # IL10 (interleukin 10)
    'rs1800871',  # IL10
    'rs1800872',  # IL10
    'rs1800779',  # NOS3 (nitric oxide synthase 3)
    'rs2070744',  # NOS3
    'rs1799983',  # NOS3
    'rs5498',  # ICAM1 (intercellular adhesion molecule 1)
    'rs1799969',  # ICAM1
    'rs3093030',  # CCL2 (C-C motif chemokine ligand 2)
    'rs1024611',  # CCL2
    'rs2857657',  # CCL2
    'rs1801133',  # MTHFR (methylenetetrahydrofolate reductase)
    'rs1801131',  # MTHFR
    'rs1801394',  # MTRR (5-methyltetrahydrofolate-homocysteine methyltransferase reductase)
    'rs1805087',  # MTR (5-methyltetrahydrofolate-homocysteine methyltransferase)
    'rs662',  # PON1 (paraoxonase 1)
    'rs854560',  # PON1
    'rs705379',  # PON1
    'rs429358',  # APOE (apolipoprotein E)
    'rs7412',  # APOE
    'rs693',  # APOB (apolipoprotein B)
    'rs1042031',  # APOB
    'rs5082',  # APOA2 (apolipoprotein A2)
    'rs675',  # APOA2
    'rs2066715',  # APOA5 (apolipoprotein A5)
    'rs662799',  # APOA5
    'rs3135506',  # APOA5
    'rs1800588',  # LIPC (lipase C, hepatic type)
    'rs2070895',  # LIPC
    'rs328',  # LPL (lipoprotein lipase)
    'rs268',  # LPL
    'rs320',  # LPL
    'rs1799983',  # NOS3 (nitric oxide synthase 3)
    'rs2070744',  # NOS3
    'rs1800779',  # NOS3
    'rs5186',  # AGTR1 (angiotensin II receptor type 1)
    'rs5443',  # GNB3 (G protein subunit beta 3)
    'rs1801253',  # ADRB1 (adrenoceptor beta 1)
    'rs1042713',  # ADRB2 (adrenoceptor beta 2)
    'rs1042714',  # ADRB2
    'rs1800888',  # ADRB2
    'rs4994',  # ADRB3 (adrenoceptor beta 3)
    'rs1799998',  # CYP11B2 (cytochrome P450 family 11 subfamily B member 2)
    'rs4343',  # ACE (angiotensin I converting enzyme)
    'rs699',  # AGT (angiotensinogen)
    'rs4762',  # AGT
    'rs5051',  # AGT
    'rs1800629',  # TNF (tumor necrosis factor)
    'rs361525',  # TNF
    'rs1800610',  # TNF
    'rs909253',  # LTA (lymphotoxin alpha)
    'rs1041981',  # LTA
    'rs1800795',  # IL6 (interleukin 6)
    'rs1800796',  # IL6
    'rs1800797',  # IL6
    'rs16944',  # IL1B (interleukin 1 beta)
    'rs1143634',  # IL1B
    'rs1143627',  # IL1B
    'rs17561',  # IL1A (interleukin 1 alpha)
    'rs1800587',  # IL1A
    'rs1800896',  # IL10 (interleukin 10)
    'rs1800871',  # IL10
    'rs1800872',  # IL10
    'rs1800497',  # DRD2 (dopamine receptor D2)
    'rs6277',  # DRD2
    'rs1799732',  # DRD2
    'rs4680',  # COMT (catechol-O-methyltransferase)
    'rs6265',  # BDNF (brain-derived neurotrophic factor)
    'rs1800955',  # DRD4 (dopamine receptor D4)
    'rs747302',  # DRD4
    'rs1800497',  # ANKK1 (ankyrin repeat and kinase domain containing 1)
    'rs4680',  # COMT (catechol-O-methyltransferase)
    'rs165599',  # COMT
    'rs4633',  # COMT
    'rs6280',  # DRD3 (dopamine receptor D3)
    'rs1800955',  # DRD4 (dopamine receptor D4)
    'rs1800497',  # ANKK1/DRD2
    'rs1799971',  # OPRM1 (opioid receptor mu 1)
    'rs1229984',  # ADH1B (alcohol dehydrogenase 1B)
    'rs671',  # ALDH2 (aldehyde dehydrogenase 2)
    'rs16969968',  # CHRNA5 (cholinergic receptor nicotinic alpha 5 subunit)
    'rs1051730',  # CHRNA3 (cholinergic receptor nicotinic alpha 3 subunit)
    'rs6265',  # BDNF (brain-derived neurotrophic factor)
    'rs1800497',  # ANKK1/DRD2
    'rs53576',  # OXTR (oxytocin receptor)
    'rs2254298',  # OXTR
    'rs1042778',  # OXTR
    'rs237887',  # OXTR
    'rs2268498',  # OXTR
    'rs237897',  # OXTR
    'rs4680',  # COMT
    'rs4633',  # COMT
    'rs165599',  # COMT
    'rs6280',  # DRD3
    'rs1800955',  # DRD4
    'rs1800497',  # ANKK1/DRD2
    'rs1799971',  # OPRM1
    'rs1229984',  # ADH1B
    'rs671',  # ALDH2
    'rs16969968',  # CHRNA5
    'rs1051730',  # CHRNA3
    'rs6265',  # BDNF
    'rs1800497',  # ANKK1/DRD2
    'rs53576',  # OXTR
    'rs2254298',  # OXTR
    'rs1042778',  # OXTR
    'rs237887',  # OXTR
    'rs2268498',  # OXTR
    'rs237897',  # OXTR
    'rs4680',  # COMT
    'rs4633',  # COMT
    'rs165599',  # COMT
    'rs6280',  # DRD3
    'rs1800955',  # DRD4
    'rs1800497',  # ANKK1/DRD2
    'rs1799971',  # OPRM1
    'rs1229984',  # ADH1B
    'rs671',  # ALDH2
    'rs16969968',  # CHRNA5
    'rs1051730',  # CHRNA3
    'rs6265',  # BDNF
    'rs1800497',  # ANKK1/DRD2
    'rs53576',  # OXTR
    'rs2254298',  # OXTR
    'rs1042778',  # OXTR
    'rs237887',  # OXTR
    'rs2268498',  # OXTR
    'rs237897',  # OXTR
    'rs1801133', 'rs1801131', 'rs1801394', 'rs1805087', 'rs662',  # MTHFR, MTRR, MTR, PON1
    'rs854560', 'rs705379', 'rs429358', 'rs7412', 'rs693',  # PON1, APOE, APOB
    'rs1042031', 'rs5082', 'rs675', 'rs2066715', 'rs662799',  # APOB, APOA2, APOA5
    'rs3135506', 'rs1800588', 'rs2070895', 'rs328', 'rs268',  # APOA5, LIPC, LPL
    'rs320', 'rs1799983', 'rs2070744', 'rs1800779', 'rs5186',  # LPL, NOS3, AGTR1
    'rs5443', 'rs1801253', 'rs1042713', 'rs1042714', 'rs1800888',  # GNB3, ADRB1, ADRB2
    'rs4994', 'rs1799998', 'rs4343', 'rs699', 'rs4762',  # ADRB3, CYP11B2, ACE, AGT
    'rs5051', 'rs1800629', 'rs361525', 'rs1800610', 'rs909253',  # AGT, TNF, LTA
    'rs1041981', 'rs1800795', 'rs1800796', 'rs1800797', 'rs16944',  # LTA, IL6, IL1B
    'rs1143634', 'rs1143627', 'rs17561', 'rs1800587', 'rs1800896',  # IL1B, IL1A, IL10
    'rs1800871', 'rs1800872', 'rs1800497', 'rs6277', 'rs1799732',  # IL10, DRD2
    'rs4680', 'rs6265', 'rs1800955', 'rs747302', 'rs165599',  # COMT, BDNF, DRD4, COMT
    'rs4633', 'rs6280', 'rs1799971', 'rs1229984', 'rs671',  # COMT, DRD3, OPRM1, ADH1B, ALDH2
    'rs16969968', 'rs1051730', 'rs53576', 'rs2254298', 'rs1042778',  # CHRNA5, CHRNA3, OXTR
    'rs237887', 'rs2268498', 'rs237897', 'rs4680', 'rs4633',  # OXTR, COMT
    'rs165599', 'rs6280', 'rs1800955', 'rs1799971', 'rs1229984',  # COMT, DRD3, DRD4, OPRM1, ADH1B
    'rs671', 'rs16969968', 'rs1051730', 'rs6265', 'rs53576',  # ALDH2, CHRNA5, CHRNA3, BDNF, OXTR
    'rs2254298', 'rs1042778', 'rs237887', 'rs2268498', 'rs237897',  # OXTR
    'rs4988235', 'rs182549', 'rs3754686', 'rs145946881', 'rs41380347',  # LCT (lactase persistence)
    'rs1800562', 'rs1799945', 'rs1800730', 'rs855791', 'rs4820268',  # HFE, TMPRSS6 (iron metabolism)
    'rs1800795', 'rs1800796', 'rs1800797', 'rs2069840', 'rs2069861',  # IL6 (interleukin 6)
    'rs1800629', 'rs361525', 'rs1799724', 'rs1800610', 'rs1799964',  # TNF (tumor necrosis factor)
    'rs16944', 'rs1143634', 'rs1143627', 'rs1143633', 'rs1143623',  # IL1B (interleukin 1 beta)
    'rs1800896', 'rs1800871', 'rs1800872', 'rs3024505', 'rs3021094',  # IL10 (interleukin 10)
    'rs1800497', 'rs1799732', 'rs6277', 'rs1076560', 'rs2283265',  # DRD2 (dopamine receptor D2)
    'rs4680', 'rs4633', 'rs4818', 'rs769224', 'rs165599',  # COMT (catechol-O-methyltransferase)
    'rs6265', 'rs56164415', 'rs2049046', 'rs11030104', 'rs11030119',  # BDNF (brain-derived neurotrophic factor)
    'rs1800955', 'rs747302', 'rs936461', 'rs4646984', 'rs1800443',  # DRD4 (dopamine receptor D4)
    'rs1799971', 'rs1799972', 'rs1799973', 'rs540825', 'rs563649',  # OPRM1 (opioid receptor mu 1)
    'rs1229984', 'rs2066702', 'rs1693482', 'rs698', 'rs1789891',  # ADH1B, ADH1C (alcohol dehydrogenase)
    'rs671', 'rs441', 'rs440', 'rs4646776', 'rs671',  # ALDH2 (aldehyde dehydrogenase 2)
    'rs16969968', 'rs1051730', 'rs578776', 'rs588765', 'rs6495308',  # CHRNA5-CHRNA3-CHRNB4 cluster
    'rs53576', 'rs2254298', 'rs1042778', 'rs237887', 'rs2268498',  # OXTR (oxytocin receptor)
    'rs4988235', 'rs182549', 'rs3754686', 'rs145946881', 'rs41380347',  # LCT (lactase persistence)
    'rs713598', 'rs1726866', 'rs10246939', 'rs1726866', 'rs10246939',  # TAS2R38 (taste receptor)
    'rs4680', 'rs4633', 'rs4818', 'rs769224', 'rs165599',  # COMT (catechol-O-methyltransferase)
    'rs1800497', 'rs1799732', 'rs6277', 'rs1076560', 'rs2283265',  # DRD2 (dopamine receptor D2)
    'rs6265', 'rs56164415', 'rs2049046', 'rs11030104', 'rs11030119',  # BDNF (brain-derived neurotrophic factor)
    'rs1800955', 'rs747302', 'rs936461', 'rs4646984', 'rs1800443',  # DRD4 (dopamine receptor D4)
    'rs1799971', 'rs1799972', 'rs1799973', 'rs540825', 'rs563649',  # OPRM1 (opioid receptor mu 1)
    'rs1229984', 'rs2066702', 'rs1693482', 'rs698', 'rs1789891',  # ADH1B, ADH1C (alcohol dehydrogenase)
    'rs671', 'rs441', 'rs440', 'rs4646776', 'rs671',  # ALDH2 (aldehyde dehydrogenase 2)
    'rs16969968', 'rs1051730', 'rs578776', 'rs588765', 'rs6495308',  # CHRNA5-CHRNA3-CHRNB4 cluster
    'rs53576', 'rs2254298', 'rs1042778', 'rs237887', 'rs2268498',  # OXTR (oxytocin receptor)
    'rs4988235', 'rs182549', 'rs3754686', 'rs145946881', 'rs41380347',  # LCT (lactase persistence)
    'rs713598', 'rs1726866', 'rs10246939', 'rs1726866', 'rs10246939',  # TAS2R38 (taste receptor)
    'rs429358', 'rs7412', 'rs769449', 'rs4420638', 'rs157580',  # APOE (apolipoprotein E)
    'rs1801133', 'rs1801131', 'rs2066470', 'rs1801394', 'rs1805087',  # MTHFR, MTRR, MTR (folate metabolism)
    'rs662', 'rs854560', 'rs705379', 'rs705381', 'rs662',  # PON1 (paraoxonase 1)
    'rs1800629', 'rs361525', 'rs1799724', 'rs1800610', 'rs1799964',  # TNF (tumor necrosis factor)
    'rs1800796', 'rs1800795', 'rs1800797', 'rs2069840', 'rs2069861',  # IL6 (interleukin 6)
    'rs16944', 'rs1143634', 'rs1143627', 'rs1143633', 'rs1143623',  # IL1B (interleukin 1 beta)
    'rs1800896', 'rs1800871', 'rs1800872', 'rs3024505', 'rs3021094',  # IL10 (interleukin 10)
    'rs1800497', 'rs1799732', 'rs6277', 'rs1076560', 'rs2283265',  # DRD2 (dopamine receptor D2)
    'rs4680', 'rs4633', 'rs4818', 'rs769224', 'rs165599',  # COMT (catechol-O-methyltransferase)
    'rs6265', 'rs56164415', 'rs2049046', 'rs11030104', 'rs11030119',  # BDNF (brain-derived neurotrophic factor)
    'rs1800955', 'rs747302', 'rs936461', 'rs4646984', 'rs1800443',  # DRD4 (dopamine receptor D4)
    'rs1799971', 'rs1799972', 'rs1799973', 'rs540825', 'rs563649',  # OPRM1 (opioid receptor mu 1)
    'rs1229984', 'rs2066702', 'rs1693482', 'rs698', 'rs1789891',  # ADH1B, ADH1C (alcohol dehydrogenase)
    'rs671', 'rs441', 'rs440', 'rs4646776', 'rs671',  # ALDH2 (aldehyde dehydrogenase 2)
    'rs16969968', 'rs1051730', 'rs578776', 'rs588765', 'rs6495308',  # CHRNA5-CHRNA3-CHRNB4 cluster
    'rs53576', 'rs2254298', 'rs1042778', 'rs237887', 'rs2268498',  # OXTR (oxytocin receptor)
    'rs4988235', 'rs182549', 'rs3754686', 'rs145946881', 'rs41380347',  # LCT (lactase persistence)
    'rs713598', 'rs1726866', 'rs10246939', 'rs1726866', 'rs10246939',  # TAS2R38 (taste receptor)
    'rs1800497', 'rs1799732', 'rs6277', 'rs1076560', 'rs2283265',  # DRD2 (dopamine receptor D2)
    'rs4680', 'rs4633', 'rs4818', 'rs769224', 'rs165599',  # COMT (catechol-O-methyltransferase)
    'rs6265', 'rs56164415', 'rs2049046', 'rs11030104', 'rs11030119',  # BDNF (brain-derived neurotrophic factor)
    'rs1800955', 'rs747302', 'rs936461', 'rs4646984', 'rs1800443',  # DRD4 (dopamine receptor D4)
    'rs1799971', 'rs1799972', 'rs1799973', 'rs540825', 'rs563649',  # OPRM1 (opioid receptor mu 1)
    'rs1229984', 'rs2066702', 'rs1693482', 'rs698', 'rs1789891',  # ADH1B, ADH1C (alcohol dehydrogenase)
    'rs671', 'rs441', 'rs440', 'rs4646776', 'rs671',  # ALDH2 (aldehyde dehydrogenase 2)
    'rs16969968', 'rs1051730', 'rs578776', 'rs588765', 'rs6495308',  # CHRNA5-CHRNA3-CHRNB4 cluster
    'rs53576', 'rs2254298', 'rs1042778', 'rs237887', 'rs2268498',  # OXTR (oxytocin receptor)
    'rs4988235', 'rs182549', 'rs3754686', 'rs145946881', 'rs41380347',  # LCT (lactase persistence)
    'rs713598', 'rs1726866', 'rs10246939', 'rs1726866', 'rs10246939',  # TAS2R38 (taste receptor)
    'rs429358', 'rs7412', 'rs769449', 'rs4420638', 'rs157580',  # APOE (apolipoprotein E)
    'rs1801133', 'rs1801131', 'rs2066470', 'rs1801394', 'rs1805087',  # MTHFR, MTRR, MTR (folate metabolism)
    'rs662', 'rs854560', 'rs705379', 'rs705381', 'rs662',  # PON1 (paraoxonase 1)
    'rs1800629', 'rs361525', 'rs1799724', 'rs1800610', 'rs1799964',  # TNF (tumor necrosis factor)
    'rs1800796', 'rs1800795', 'rs1800797', 'rs2069840', 'rs2069861',  # IL6 (interleukin 6)
    'rs16944', 'rs1143634', 'rs1143627', 'rs1143633', 'rs1143623',  # IL1B (interleukin 1 beta)
    'rs1800896', 'rs1800871', 'rs1800872', 'rs3024505', 'rs3021094',  # IL10 (interleukin 10)
    'rs1800497', 'rs1799732', 'rs6277', 'rs1076560', 'rs2283265',  # DRD2 (dopamine receptor D2)
    'rs4680', 'rs4633', 'rs4818', 'rs769224', 'rs165599',  # COMT (catechol-O-methyltransferase)
    'rs6265', 'rs56164415', 'rs2049046', 'rs11030104', 'rs11030119',  # BDNF (brain-derived neurotrophic factor)
    'rs1800955', 'rs747302', 'rs936461', 'rs4646984', 'rs1800443',  # DRD4 (dopamine receptor D4)
    'rs1799971', 'rs1799972', 'rs1799973', 'rs540825', 'rs563649',  # OPRM1 (opioid receptor mu 1)
    'rs1229984', 'rs2066702', 'rs1693482', 'rs698', 'rs1789891',  # ADH1B, ADH1C (alcohol dehydrogenase)
    'rs671', 'rs441', 'rs440', 'rs4646776', 'rs671',  # ALDH2 (aldehyde dehydrogenase 2)
    'rs16969968', 'rs1051730', 'rs578776', 'rs588765', 'rs6495308',  # CHRNA5-CHRNA3-CHRNB4 cluster
    'rs53576', 'rs2254298', 'rs1042778', 'rs237887', 'rs2268498',  # OXTR (oxytocin receptor)
    'rs4988235', 'rs182549', 'rs3754686', 'rs145946881', 'rs41380347',  # LCT (lactase persistence)
    'rs713598', 'rs1726866', 'rs10246939', 'rs1726866', 'rs10246939',  # TAS2R38 (taste receptor)
    'rs1800497', 'rs1799732', 'rs6277', 'rs1076560', 'rs2283265',  # DRD2 (dopamine receptor D2)
    'rs4680', 'rs4633', 'rs4818', 'rs769224', 'rs165599',  # COMT (catechol-O-methyltransferase)
    'rs6265', 'rs56164415', 'rs2049046', 'rs11030104', 'rs11030119',  # BDNF (brain-derived neurotrophic factor)
    'rs1800955', 'rs747302', 'rs936461', 'rs4646984', 'rs1800443',  # DRD4 (dopamine receptor D4)
    'rs1799971', 'rs1799972', 'rs1799973', 'rs540825', 'rs563649',  # OPRM1 (opioid receptor mu 1)
    'rs1229984', 'rs2066702', 'rs1693482', 'rs698', 'rs1789891',  # ADH1B, ADH1C (alcohol dehydrogenase)
    'rs671', 'rs441', 'rs440', 'rs4646776', 'rs671',  # ALDH2 (aldehyde dehydrogenase 2)
    'rs16969968', 'rs1051730', 'rs578776', 'rs588765', 'rs6495308',  # CHRNA5-CHRNA3-CHRNB4 cluster
    'rs53576', 'rs2254298', 'rs1042778', 'rs237887', 'rs2268498',  # OXTR (oxytocin receptor)
    'rs4988235', 'rs182549', 'rs3754686', 'rs145946881', 'rs41380347',  # LCT (lactase persistence)
    'rs713598', 'rs1726866', 'rs10246939', 'rs1726866', 'rs10246939',  # TAS2R38 (taste receptor)
    'rs429358', 'rs7412', 'rs769449', 'rs4420638', 'rs157580',  # APOE (apolipoprotein E)
    'rs1801133', 'rs1801131', 'rs2066470', 'rs1801394', 'rs1805087',  # MTHFR, MTRR, MTR (folate metabolism)
    'rs662', 'rs854560', 'rs705379', 'rs705381', 'rs662',  # PON1 (paraoxonase 1)
    'rs1800629', 'rs361525', 'rs1799724', 'rs1800610', 'rs1799964',  # TNF (tumor necrosis factor)
    'rs1800796',     'rs1800796', 'rs1800795', 'rs1800797', 'rs2069840', 'rs2069861',  # IL6 (interleukin 6)    'rs16944', 'rs1143634', 'rs1143627', 'rs1143633', 'rs1143623',  # IL1B (interleukin 1 beta)
    'rs1800896', 'rs1800871', 'rs1800872', 'rs3024505', 'rs3021094',  # IL10 (interleukin 10)
    'rs1800497', 'rs1799732', 'rs6277', 'rs1076560', 'rs2283265',  # DRD2 (dopamine receptor D2)
    'rs4680', 'rs4633', 'rs4818', 'rs769224', 'rs165599',  # COMT (catechol-O-methyltransferase)
    'rs6265', 'rs56164415', 'rs2049046', 'rs11030104', 'rs11030119',  # BDNF (brain-derived neurotrophic factor)
    'rs1800955', 'rs747302', 'rs936461', 'rs4646984', 'rs1800443',  # DRD4 (dopamine receptor D4)
    'rs1799971', 'rs1799972', 'rs1799973', 'rs540825', 'rs563649',  # OPRM1 (opioid receptor mu 1)
    'rs1229984', 'rs2066702', 'rs1693482', 'rs698', 'rs1789891',  # ADH1B, ADH1C (alcohol dehydrogenase)
    'rs671', 'rs441', 'rs440', 'rs4646776', 'rs671',  # ALDH2 (aldehyde dehydrogenase 2)
    'rs16969968', 'rs1051730', 'rs578776', 'rs588765', 'rs6495308',  # CHRNA5-CHRNA3-CHRNB4 cluster
    'rs53576', 'rs2254298', 'rs1042778', 'rs237887', 'rs2268498',  # OXTR (oxytocin receptor)
    'rs4988235', 'rs182549', 'rs3754686', 'rs145946881', 'rs41380347',  # LCT (lactase persistence)
    'rs713598', 'rs1726866', 'rs10246939', 'rs1726866', 'rs10246939',  # TAS2R38 (taste receptor)
    'rs1801282', 'rs1805192', 'rs3856806', 'rs1800206', 'rs4253778',  # PPAR genes (metabolism)
    'rs9939609', 'rs1421085', 'rs1121980', 'rs17817449', 'rs8050136',  # FTO (fat mass and obesity-associated)
    'rs1800562', 'rs1799945', 'rs1800730', 'rs855791', 'rs4820268',  # HFE, TMPRSS6 (iron metabolism)
    'rs4680', 'rs4633', 'rs4818', 'rs769224', 'rs165599',  # COMT (catechol-O-methyltransferase)
    'rs1800497', 'rs1799732', 'rs6277', 'rs1076560', 'rs2283265',  # DRD2 (dopamine receptor D2)
    'rs6265', 'rs56164415', 'rs2049046', 'rs11030104', 'rs11030119',  # BDNF (brain-derived neurotrophic factor)
    'rs1800955', 'rs747302', 'rs936461', 'rs4646984', 'rs1800443',  # DRD4 (dopamine receptor D4)
    'rs1799971', 'rs1799972', 'rs1799973', 'rs540825', 'rs563649',  # OPRM1 (opioid receptor mu 1)
    'rs1229984', 'rs2066702', 'rs1693482', 'rs698', 'rs1789891',  # ADH1B, ADH1C (alcohol dehydrogenase)
    'rs671', 'rs441', 'rs440', 'rs4646776', 'rs671',  # ALDH2 (aldehyde dehydrogenase 2)
    'rs16969968', 'rs1051730', 'rs578776', 'rs588765', 'rs6495308',  # CHRNA5-CHRNA3-CHRNB4 cluster
    'rs53576', 'rs2254298', 'rs1042778', 'rs237887', 'rs2268498',  # OXTR (oxytocin receptor)
    'rs4988235', 'rs182549', 'rs3754686', 'rs145946881', 'rs41380347',  # LCT (lactase persistence)
    'rs713598', 'rs1726866', 'rs10246939', 'rs1726866', 'rs10246939',  # TAS2R38 (taste receptor)
    'rs1801133', 'rs1801131', 'rs2066470', 'rs1801394', 'rs1805087',  # MTHFR, MTRR, MTR (folate metabolism)
    'rs662', 'rs854560', 'rs705379', 'rs705381', 'rs662',  # PON1 (paraoxonase 1)
    'rs1800629', 'rs361525', 'rs1799724', 'rs1800610', 'rs1799964',  # TNF (tumor necrosis factor)
    'rs1800796', 'rs1800795', 'rs1800797', 'rs2069840', 'rs2069861',  # IL6 (interleukin 6)
    'rs16944', 'rs1143634', 'rs1143627', 'rs1143633', 'rs1143623',  # IL1B (interleukin 1 beta)
    'rs1800896', 'rs1800871', 'rs1800872', 'rs3024505', 'rs3021094',  # IL10 (interleukin 10)
    'rs1800497', 'rs1799732', 'rs6277', 'rs1076560', 'rs2283265',  # DRD2 (dopamine receptor D2)
    'rs4680', 'rs4633', 'rs4818', 'rs769224', 'rs165599',  # COMT (catechol-O-methyltransferase)
    'rs6265', 'rs56164415', 'rs2049046', 'rs11030104', 'rs11030119',  # BDNF (brain-derived neurotrophic factor)
    'rs1800955', 'rs747302', 'rs936461', 'rs4646984', 'rs1800443',  # DRD4 (dopamine receptor D4)
    'rs1799971', 'rs1799972', 'rs1799973', 'rs540825', 'rs563649',  # OPRM1 (opioid receptor mu 1)
    'rs1229984', 'rs2066702', 'rs1693482', 'rs698', 'rs1789891',  # ADH1B, ADH1C (alcohol dehydrogenase)
    'rs671', 'rs441', 'rs440', 'rs4646776', 'rs671',  # ALDH2 (aldehyde dehydrogenase 2)
    'rs16969968', 'rs1051730', 'rs578776', 'rs588765', 'rs6495308',  # CHRNA5-CHRNA3-CHRNB4 cluster
    'rs53576', 'rs2254298', 'rs1042778', 'rs237887', 'rs2268498',  # OXTR (oxytocin receptor)
    'rs4988235', 'rs182549', 'rs3754686', 'rs145946881', 'rs41380347',  # LCT (lactase persistence)
    'rs713598', 'rs1726866', 'rs10246939', 'rs1726866', 'rs10246939',  # TAS2R38 (taste receptor)

]



# Remove duplicates from common_markers
common_markers = list(dict.fromkeys(common_markers))

# Generate random marker names for the remaining markers
remaining_markers = [f'rs{i}' for i in range(len(common_markers), n_markers)]
all_markers = common_markers + remaining_markers

# Define Minor Allele Frequencies (MAFs) for common variants
common_mafs = np.random.uniform(0.01, 0.5, size=len(common_markers))

def generate_realistic_genetic_data(n_samples, markers, common_mafs, batch_size=10000, checkpoint_file='data_generation_checkpoint.pkl'):
    total_batches = n_samples // batch_size
    start_batch = 0
    data = []

    # Check for existing checkpoint
    checkpoint_path = os.path.join(data_checkpoint_dir, checkpoint_file)
    if os.path.exists(checkpoint_path):
        with open(checkpoint_path, 'rb') as f:
            checkpoint = pickle.load(f)
            data = checkpoint['data']
            start_batch = checkpoint['batch']
        print(f"Resuming data generation from batch {start_batch}")

    for batch in range(start_batch, total_batches):
        batch_data = np.zeros((batch_size, len(markers)))

        # Generate data for common variants
        for i, (marker, maf) in enumerate(zip(common_markers, common_mafs)):
            batch_data[:, i] = np.random.choice([0, 1, 2], size=batch_size, p=[(1-maf)**2, 2*maf*(1-maf), maf**2])

        # Generate data for remaining markers
        for i in range(len(common_markers), len(markers)):
            maf = np.random.uniform(0.0001, 0.01)  # Rare variants
            batch_data[:, i] = np.random.choice([0, 1, 2], size=batch_size, p=[(1-maf)**2, 2*maf*(1-maf), maf**2])

        # Introduce Linkage Disequilibrium (LD)
        ld_groups = np.random.randint(0, 100, size=len(markers))
        for group in range(100):
            group_markers = np.where(ld_groups == group)[0]
            if len(group_markers) > 1:
                base_marker = group_markers[0]
                for marker in group_markers[1:]:
                    ld_strength = np.random.uniform(0.7, 0.9)
                    batch_data[:, marker] = np.where(bernoulli.rvs(ld_strength, size=batch_size),
                                                     batch_data[:, base_marker],
                                                     batch_data[:, marker])

        data.append(batch_data)

        # Save checkpoint every 10 batches
        if (batch + 1) % 10 == 0:
            with open(checkpoint_path, 'wb') as f:
                pickle.dump({'data': data, 'batch': batch + 1}, f)
            print(f"Checkpoint saved at batch {batch + 1}/{total_batches}")

    return np.vstack(data)

# Define and train a more complex Variational Autoencoder (VAE)
class ComplexVAE(keras.Model):
    def __init__(self, original_dim, intermediate_dim=2048, latent_dim=256):
        super(ComplexVAE, self).__init__()
        self.original_dim = original_dim
        self.encoder = tf.keras.Sequential([
            keras.layers.InputLayer(input_shape=(original_dim,)),
            keras.layers.Dense(intermediate_dim, activation='relu'),
            keras.layers.Dense(intermediate_dim // 2, activation='relu'),
            keras.layers.Dense(intermediate_dim // 4, activation='relu'),
            keras.layers.Dense(latent_dim * 2)
        ])
        self.decoder = tf.keras.Sequential([
            keras.layers.InputLayer(input_shape=(latent_dim,)),
            keras.layers.Dense(intermediate_dim // 4, activation='relu'),
            keras.layers.Dense(intermediate_dim // 2, activation='relu'),
            keras.layers.Dense(intermediate_dim, activation='relu'),
            keras.layers.Dense(original_dim)
        ])

    def encode(self, x):
        mean, logvar = tf.split(self.encoder(x), num_or_size_splits=2, axis=1)
        return mean, logvar

    def reparameterize(self, mean, logvar):
        eps = tf.random.normal(shape=mean.shape)
        return eps * tf.exp(logvar * .5) + mean

    def decode(self, z):
        return self.decoder(z)

    def call(self, inputs):
        mean, logvar = self.encode(inputs)
        z = self.reparameterize(mean, logvar)
        reconstructed = self.decode(z)
        return reconstructed

    def train_step(self, data):
        with tf.GradientTape() as tape:
            mean, logvar = self.encode(data)
            z = self.reparameterize(mean, logvar)
            reconstructed = self.decode(z)
            
            # Compute reconstruction loss
            reconstruction_loss = tf.reduce_mean(
                tf.keras.losses.binary_crossentropy(data, reconstructed)
            )
            reconstruction_loss *= self.original_dim
            
            # Compute KL divergence
            kl_loss = -0.5 * tf.reduce_mean(
                1 + logvar - tf.square(mean) - tf.exp(logvar)
            )
            
            # Total loss
            total_loss = reconstruction_loss + kl_loss

        grads = tape.gradient(total_loss, self.trainable_weights)
        self.optimizer.apply_gradients(zip(grads, self.trainable_weights))

        return {
            "loss": total_loss,
            "reconstruction_loss": reconstruction_loss,
            "kl_loss": kl_loss,
        }


def save_data_to_csv(df, file_path='genetic_data.csv'):
    os.makedirs(os.path.dirname(file_path), exist_ok=True)
    df.to_csv(file_path, index=False)
    print(f"Data saved to {file_path}")

def verify_saved_data(file_path='genetic_data.csv'):
    try:
        # Check file size
        file_size = os.path.getsize(file_path)
        print(f"File size: {file_size} bytes")

        # Read the first few lines
        print("First few lines of the saved data:")
        with open(file_path, 'r') as f:
            for _ in range(5):
                print(f.readline().strip())

        # Count total lines
        with open(file_path, 'r') as f:
            total_lines = sum(1 for _ in f)

        print(f"Total number of lines (including header): {total_lines}")
        print(f"Number of samples: {total_lines - 1}")  # Subtract 1 for header

    except Exception as e:
        print(f"Error verifying saved data: {e}")

# Generate initial realistic genetic data
print("Generating initial genetic data...")
initial_data = generate_realistic_genetic_data(n_samples, all_markers, common_mafs)

# Save the initial data
initial_data_path = os.path.join(base_dir, 'genetic_data.csv')
save_data_to_csv(pd.DataFrame(initial_data, columns=all_markers), file_path=initial_data_path)

# Verify the saved initial data
print("Verifying saved initial data...")
verify_saved_data(initial_data_path)

# Prepare data for VAE
print("Preparing data for VAE...")
scaler = StandardScaler()
scaled_data = scaler.fit_transform(initial_data)

# Train VAE
print("Training VAE...")
vae = ComplexVAE(n_markers)
vae.compile(optimizer=keras.optimizers.Adam(learning_rate=0.001))

# Use tf.data.Dataset for efficient data loading
batch_size = 256
train_dataset = tf.data.Dataset.from_tensor_slices(scaled_data).shuffle(10000).batch(batch_size)

# Checkpointing for model training
checkpoint_path = os.path.join(checkpoint_dir, "cp-{epoch:04d}.ckpt")
cp_callback = tf.keras.callbacks.ModelCheckpoint(
    filepath=checkpoint_path,
    verbose=1,
    save_weights_only=True,
    period=5)  # Save weights every 5 epochs

# Train with early stopping and checkpointing
early_stopping = tf.keras.callbacks.EarlyStopping(monitor='loss', patience=3)

# Check if there are existing checkpoints
latest_checkpoint = tf.train.latest_checkpoint(checkpoint_dir)
if latest_checkpoint:
    print(f"Resuming training from checkpoint: {latest_checkpoint}")
    vae.load_weights(latest_checkpoint)
    initial_epoch = int(latest_checkpoint.split('-')[-1].split('.')[0])
else:
    initial_epoch = 0

history = vae.fit(train_dataset, epochs=50, callbacks=[early_stopping, cp_callback], initial_epoch=initial_epoch)

# Generate synthetic data using the trained VAE
print("Generating synthetic data...")
latent_samples = tf.random.normal(shape=(n_samples, 256))
synthetic_data = vae.decode(latent_samples)
synthetic_data = scaler.inverse_transform(synthetic_data)
synthetic_df = pd.DataFrame(synthetic_data, columns=all_markers)

# Save the synthetic data
synthetic_data_path = os.path.join(base_dir, 'synthetic_genetic_data.csv')
save_data_to_csv(synthetic_df, file_path=synthetic_data_path)

# Verify the saved synthetic data
print("Verifying saved synthetic data...")
verify_saved_data(synthetic_data_path)

print("Process completed. Data saved and verified.")